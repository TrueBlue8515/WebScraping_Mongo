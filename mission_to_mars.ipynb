{
 "cells": [
  {
   "cell_type": "code",
   "execution_count": 1,
   "metadata": {},
   "outputs": [],
   "source": [
    "import pandas as pd\n",
    "import pandas as pd\n",
    "import re\n",
    "import requests\n",
    "import pymongo\n",
    "from splinter import Browser\n",
    "from bs4 import BeautifulSoup"
   ]
  },
  {
   "cell_type": "code",
   "execution_count": 2,
   "metadata": {},
   "outputs": [],
   "source": [
    "# Html of Mars website\n",
    "martian_news_url = 'https://mars.nasa.gov/news/'\n",
    "martian_news_html = requests.get(martian_news_url)"
   ]
  },
  {
   "cell_type": "code",
   "execution_count": 3,
   "metadata": {},
   "outputs": [],
   "source": [
    "# Parse with BeautifulSoup\n",
    "martian_soup = BeautifulSoup(martian_news_html.text, 'html.parser')"
   ]
  },
  {
   "cell_type": "code",
   "execution_count": 4,
   "metadata": {},
   "outputs": [],
   "source": [
    "# Print body of html\n",
    "# print(mars_soup.body.prettify())"
   ]
  },
  {
   "cell_type": "code",
   "execution_count": 5,
   "metadata": {},
   "outputs": [
    {
     "data": {
      "text/plain": [
       "[<div class=\"content_title\">\n",
       " <a href=\"/news/8413/nasas-opportunity-rover-mission-on-mars-comes-to-end/\">\n",
       " NASA's Opportunity Rover Mission on Mars Comes to End\n",
       " </a>\n",
       " </div>, <div class=\"content_title\">\n",
       " <a href=\"/news/8402/nasas-insight-places-first-instrument-on-mars/\">\n",
       " NASA's InSight Places First Instrument on Mars\n",
       " </a>\n",
       " </div>, <div class=\"content_title\">\n",
       " <a href=\"/news/8387/nasa-announces-landing-site-for-mars-2020-rover/\">\n",
       " NASA Announces Landing Site for Mars 2020 Rover\n",
       " </a>\n",
       " </div>, <div class=\"content_title\">\n",
       " <a href=\"/news/8348/opportunity-hunkers-down-during-dust-storm/\">\n",
       " Opportunity Hunkers Down During Dust Storm\n",
       " </a>\n",
       " </div>, <div class=\"content_title\">\n",
       " <a href=\"/news/8347/nasa-finds-ancient-organic-material-mysterious-methane-on-mars/\">\n",
       " NASA Finds Ancient Organic Material, Mysterious Methane on Mars\n",
       " </a>\n",
       " </div>, <div class=\"content_title\">\n",
       " <a href=\"/news/8326/nasa-invests-in-visionary-technology/\">\n",
       " NASA Invests in Visionary Technology \n",
       " </a>\n",
       " </div>]"
      ]
     },
     "execution_count": 5,
     "metadata": {},
     "output_type": "execute_result"
    }
   ],
   "source": [
    "# Find article titles\n",
    "article_titles = martian_soup.find_all('div', class_='content_title')\n",
    "article_titles"
   ]
  },
  {
   "cell_type": "code",
   "execution_count": 6,
   "metadata": {},
   "outputs": [
    {
     "name": "stdout",
     "output_type": "stream",
     "text": [
      "\n",
      "NASA's Opportunity Rover Mission on Mars Comes to End\n",
      "\n",
      "\n",
      "NASA's InSight Places First Instrument on Mars\n",
      "\n",
      "\n",
      "NASA Announces Landing Site for Mars 2020 Rover\n",
      "\n",
      "\n",
      "Opportunity Hunkers Down During Dust Storm\n",
      "\n",
      "\n",
      "NASA Finds Ancient Organic Material, Mysterious Methane on Mars\n",
      "\n",
      "\n",
      "NASA Invests in Visionary Technology \n",
      "\n"
     ]
    }
   ],
   "source": [
    "# Loop to get article titles\n",
    "for article in article_titles:\n",
    "    title = article.find('a')\n",
    "    title_text = title.text\n",
    "    print(title_text)"
   ]
  },
  {
   "cell_type": "code",
   "execution_count": 7,
   "metadata": {},
   "outputs": [
    {
     "data": {
      "text/plain": [
       "[<div class=\"rollover_description\">\n",
       " <div class=\"rollover_description_inner\">\n",
       " NASA's Opportunity Mars rover mission is complete after 15 years on Mars. Opportunity's record-breaking exploration laid the groundwork for future missions to the Red Planet.\n",
       " </div>\n",
       " <div class=\"overlay_arrow\">\n",
       " <img alt=\"More\" src=\"/assets/overlay-arrow.png\"/>\n",
       " </div>\n",
       " </div>, <div class=\"rollover_description\">\n",
       " <div class=\"rollover_description_inner\">\n",
       " In deploying its first instrument onto the surface of Mars, the lander completes a major mission milestone.\n",
       " </div>\n",
       " <div class=\"overlay_arrow\">\n",
       " <img alt=\"More\" src=\"/assets/overlay-arrow.png\"/>\n",
       " </div>\n",
       " </div>, <div class=\"rollover_description\">\n",
       " <div class=\"rollover_description_inner\">\n",
       " After a five-year search, NASA has chosen Jezero Crater as the landing site for its upcoming Mars 2020 rover mission.\n",
       " </div>\n",
       " <div class=\"overlay_arrow\">\n",
       " <img alt=\"More\" src=\"/assets/overlay-arrow.png\"/>\n",
       " </div>\n",
       " </div>, <div class=\"rollover_description\">\n",
       " <div class=\"rollover_description_inner\">\n",
       " It's the beginning of the end for the planet-encircling dust storm on Mars. But it could still be weeks, or even months, before skies are clear enough for NASA's Opportunity rover to recharge its batteries and phone home. \n",
       " </div>\n",
       " <div class=\"overlay_arrow\">\n",
       " <img alt=\"More\" src=\"/assets/overlay-arrow.png\"/>\n",
       " </div>\n",
       " </div>, <div class=\"rollover_description\">\n",
       " <div class=\"rollover_description_inner\">\n",
       " NASA’s Curiosity rover has found evidence on Mars with implications for NASA’s search for life.\n",
       " </div>\n",
       " <div class=\"overlay_arrow\">\n",
       " <img alt=\"More\" src=\"/assets/overlay-arrow.png\"/>\n",
       " </div>\n",
       " </div>, <div class=\"rollover_description\">\n",
       " <div class=\"rollover_description_inner\">\n",
       " NASA is investing in technology concepts, including several from JPL, that may one day be used for future space exploration missions.\n",
       " </div>\n",
       " <div class=\"overlay_arrow\">\n",
       " <img alt=\"More\" src=\"/assets/overlay-arrow.png\"/>\n",
       " </div>\n",
       " </div>]"
      ]
     },
     "execution_count": 7,
     "metadata": {},
     "output_type": "execute_result"
    }
   ],
   "source": [
    "# Find paragraph text\n",
    "paragraphs = martian_soup.find_all('div', class_='rollover_description')\n",
    "paragraphs"
   ]
  },
  {
   "cell_type": "code",
   "execution_count": 8,
   "metadata": {},
   "outputs": [
    {
     "name": "stdout",
     "output_type": "stream",
     "text": [
      "\n",
      "NASA's Opportunity Mars rover mission is complete after 15 years on Mars. Opportunity's record-breaking exploration laid the groundwork for future missions to the Red Planet.\n",
      "\n",
      "\n",
      "In deploying its first instrument onto the surface of Mars, the lander completes a major mission milestone.\n",
      "\n",
      "\n",
      "After a five-year search, NASA has chosen Jezero Crater as the landing site for its upcoming Mars 2020 rover mission.\n",
      "\n",
      "\n",
      "It's the beginning of the end for the planet-encircling dust storm on Mars. But it could still be weeks, or even months, before skies are clear enough for NASA's Opportunity rover to recharge its batteries and phone home. \n",
      "\n",
      "\n",
      "NASA’s Curiosity rover has found evidence on Mars with implications for NASA’s search for life.\n",
      "\n",
      "\n",
      "NASA is investing in technology concepts, including several from JPL, that may one day be used for future space exploration missions.\n",
      "\n"
     ]
    }
   ],
   "source": [
    "# Loop through paragraph texts\n",
    "for paragraph in paragraphs:\n",
    "    p_text = paragraph.find('div')\n",
    "    news_p = p_text.text\n",
    "    print(news_p)"
   ]
  },
  {
   "cell_type": "code",
   "execution_count": 9,
   "metadata": {},
   "outputs": [],
   "source": [
    "# Browser of Mars space images\n",
    "martian_images_browser = Browser('chrome', headless=False)\n",
    "nasa_url = 'https://www.jpl.nasa.gov/spaceimages/?search=&category=Mars'\n",
    "martian_images_browser.visit(nasa_url)"
   ]
  },
  {
   "cell_type": "code",
   "execution_count": 10,
   "metadata": {},
   "outputs": [],
   "source": [
    "# Parse with BeautifulSoup\n",
    "martian_images_html = martian_images_browser.html\n",
    "nasa_soup = BeautifulSoup(martian_images_html, 'html.parser')"
   ]
  },
  {
   "cell_type": "code",
   "execution_count": 11,
   "metadata": {},
   "outputs": [],
   "source": [
    "# Print body of html\n",
    "# print(nasa_soup.body.prettify())"
   ]
  },
  {
   "cell_type": "code",
   "execution_count": 12,
   "metadata": {},
   "outputs": [
    {
     "data": {
      "text/plain": [
       "[<div class=\"carousel_items\">\n",
       " <article alt=\"Painted Lines on an Ornament\" class=\"carousel_item\" style=\"background-image: url('/spaceimages/images/wallpaper/PIA17175-1920x1200.jpg');\">\n",
       " <div class=\"default floating_text_area ms-layer\">\n",
       " <h2 class=\"category_title\">\n",
       " </h2>\n",
       " <h2 class=\"brand_title\">\n",
       " \t\t\t\t  FEATURED IMAGE\n",
       " \t\t\t\t</h2>\n",
       " <h1 class=\"media_feature_title\">\n",
       " \t\t\t\t  Painted Lines on an Ornament\t\t\t\t</h1>\n",
       " <div class=\"description\">\n",
       " </div>\n",
       " <footer>\n",
       " <a class=\"button fancybox\" data-description=\"The globe of Saturn, seen here in natural color, is reminiscent of a holiday ornament in this wide-angle view from NASA's Cassini spacecraft.\" data-fancybox-group=\"images\" data-fancybox-href=\"/spaceimages/images/mediumsize/PIA17175_ip.jpg\" data-link=\"/spaceimages/details.php?id=PIA17175\" data-title=\"Painted Lines on an Ornament\" id=\"full_image\">\n",
       " \t\t\t\t\tFULL IMAGE\n",
       " \t\t\t\t  </a>\n",
       " </footer>\n",
       " </div>\n",
       " <div class=\"gradient_container_top\"></div>\n",
       " <div class=\"gradient_container_bottom\"></div>\n",
       " </article>\n",
       " </div>]"
      ]
     },
     "execution_count": 12,
     "metadata": {},
     "output_type": "execute_result"
    }
   ],
   "source": [
    "# Find image link with BeautifulSoup\n",
    "images = nasa_soup.find_all('div', class_='carousel_items')\n",
    "images"
   ]
  },
  {
   "cell_type": "code",
   "execution_count": 13,
   "metadata": {},
   "outputs": [
    {
     "name": "stdout",
     "output_type": "stream",
     "text": [
      "https://www.jpl.nasa/gov/spaceimages/images/wallpaper/PIA17175-1920x1200.jpg\n"
     ]
    }
   ],
   "source": [
    "# Loop through images\n",
    "for nasa_image in images:\n",
    "    image = nasa_image.find('article')\n",
    "    background_image = image.get('style')\n",
    "    # print(background_image)\n",
    "    \n",
    "    # extract url - match anything after (.)\n",
    "    re_background_image = re.search(\"'(.+?)'\", background_image)\n",
    "    # print(re_background_image)\n",
    "    \n",
    "    # Convert to string\n",
    "    search_background_image = re_background_image.group(1)\n",
    "    # print(search_background_image)\n",
    "    \n",
    "    featured_image_url = f'https://www.jpl.nasa/gov{search_background_image}'\n",
    "    print(featured_image_url)"
   ]
  },
  {
   "cell_type": "code",
   "execution_count": 14,
   "metadata": {},
   "outputs": [],
   "source": [
    "# Weather tweets with splinter\n",
    "twitter_browser = Browser('chrome', headless=False)\n",
    "twitter_url = 'https://twitter.com/marswxreport?lang=en'\n",
    "twitter_browser.visit(twitter_url)"
   ]
  },
  {
   "cell_type": "code",
   "execution_count": 15,
   "metadata": {},
   "outputs": [],
   "source": [
    "# Parse with BeautifulSoup\n",
    "twitter_html = twitter_browser.html\n",
    "twitter_soup = BeautifulSoup(twitter_html, 'html.parser')"
   ]
  },
  {
   "cell_type": "code",
   "execution_count": 16,
   "metadata": {},
   "outputs": [],
   "source": [
    "# Print body of html\n",
    "# print(twitter_soup.body.prettify())"
   ]
  },
  {
   "cell_type": "code",
   "execution_count": 17,
   "metadata": {},
   "outputs": [
    {
     "data": {
      "text/plain": [
       "[<p class=\"TweetTextSize TweetTextSize--normal js-tweet-text tweet-text\" data-aria-label-part=\"0\" lang=\"en\">Sol 2317 (2019-02-11), high -16C/3F, low -73C/-99F, pressure at 8.12 hPa, daylight 06:46-18:52<a class=\"twitter-timeline-link u-hidden\" data-pre-embedded=\"true\" dir=\"ltr\" href=\"https://t.co/D15lfEs6RN\">pic.twitter.com/D15lfEs6RN</a></p>,\n",
       " <p class=\"TweetTextSize TweetTextSize--normal js-tweet-text tweet-text\" data-aria-label-part=\"0\" lang=\"en\">Sol 2316 (2019-02-10), high -14C/6F, low -72C/-97F, pressure at 8.14 hPa, daylight 06:47-18:52</p>,\n",
       " <p class=\"TweetTextSize TweetTextSize--normal js-tweet-text tweet-text\" data-aria-label-part=\"0\" lang=\"en\">While the Sun has set on <a class=\"twitter-hashtag pretty-link js-nav\" data-query-source=\"hashtag_click\" dir=\"ltr\" href=\"/hashtag/Opportunity?src=hash\"><s>#</s><b>Opportunity</b></a>, the MER program lives on in mountains of data scientists will be making new discoveries from for decades.\n",
       " \n",
       " We asked 90 Sols and 1km, she gave us 5110 Sols and 45km. So long Oppy, and thanks for all the data. \n",
       " \n",
       " MER-B EOM<a class=\"twitter-timeline-link u-hidden\" data-pre-embedded=\"true\" dir=\"ltr\" href=\"https://t.co/33obWOXbNx\">pic.twitter.com/33obWOXbNx</a></p>,\n",
       " <p class=\"TweetTextSize TweetTextSize--normal js-tweet-text tweet-text\" data-aria-label-part=\"4\" lang=\"en\">Join NASA at 2pm ET tomorrow for results of attempts to contact Oppy.\n",
       " \n",
       " <a class=\"twitter-timeline-link\" data-expanded-url=\"https://www.nasa.gov/press-release/nasa-to-share-results-of-effort-to-recover-mars-opportunity-rover/\" dir=\"ltr\" href=\"https://t.co/K3TkA5PGU2\" rel=\"nofollow noopener\" target=\"_blank\" title=\"https://www.nasa.gov/press-release/nasa-to-share-results-of-effort-to-recover-mars-opportunity-rover/\"><span class=\"tco-ellipsis\"></span><span class=\"invisible\">https://www.</span><span class=\"js-display-url\">nasa.gov/press-release/</span><span class=\"invisible\">nasa-to-share-results-of-effort-to-recover-mars-opportunity-rover/</span><span class=\"tco-ellipsis\"><span class=\"invisible\"> </span>…</span></a><a class=\"twitter-timeline-link u-hidden\" data-expanded-url=\"https://twitter.com/planetarykeri/status/1095469660017840128\" dir=\"ltr\" href=\"https://t.co/1NnqMDLu0n\" rel=\"nofollow noopener\" target=\"_blank\" title=\"https://twitter.com/planetarykeri/status/1095469660017840128\"><span class=\"tco-ellipsis\"></span><span class=\"invisible\">https://</span><span class=\"js-display-url\">twitter.com/planetarykeri/</span><span class=\"invisible\">status/1095469660017840128</span><span class=\"tco-ellipsis\"><span class=\"invisible\"> </span>…</span></a></p>,\n",
       " <p class=\"TweetTextSize TweetTextSize--normal js-tweet-text tweet-text\" data-aria-label-part=\"0\" lang=\"en\">Sol 2315 (2019-02-09), high -17C/1F, low -71C/-95F, pressure at 8.13 hPa, daylight 06:47-18:52<a class=\"twitter-timeline-link u-hidden\" data-pre-embedded=\"true\" dir=\"ltr\" href=\"https://t.co/xnGU2i98WB\">pic.twitter.com/xnGU2i98WB</a></p>,\n",
       " <p class=\"TweetTextSize TweetTextSize--normal js-tweet-text tweet-text\" data-aria-label-part=\"0\" lang=\"en\">Sol 2314 (2019-02-08), high -16C/3F, low -71C/-95F, pressure at 8.14 hPa, daylight 06:47-18:53</p>,\n",
       " <p class=\"TweetTextSize TweetTextSize--normal js-tweet-text tweet-text\" data-aria-label-part=\"0\" lang=\"en\">Sol 2313 (2019-02-07), high -14C/6F, low -71C/-95F, pressure at 8.14 hPa, daylight 06:47-18:53</p>,\n",
       " <p class=\"TweetTextSize TweetTextSize--normal js-tweet-text tweet-text\" data-aria-label-part=\"0\" lang=\"en\">2019-01-28 through 02-03 via MRO/Marci \n",
       " • dust storms north of Alba Patera\n",
       " • lee wave clouds near Tempe Terra &amp; Deuteronilus Mensae\n",
       " • H2O ice clouds over Arsia Mons \n",
       " • dust haze hides Valles Marineris floor\n",
       " • seasonally high dust over Opportunity, Curioisty, &amp; Insight<a class=\"twitter-timeline-link u-hidden\" data-pre-embedded=\"true\" dir=\"ltr\" href=\"https://t.co/awlKHfgac2\">pic.twitter.com/awlKHfgac2</a></p>,\n",
       " <p class=\"TweetTextSize TweetTextSize--normal js-tweet-text tweet-text\" data-aria-label-part=\"0\" lang=\"en\">Sol 2312 (2019-02-06), high -13C/8F, low -72C/-97F, pressure at 8.13 hPa, daylight 06:47-18:53<a class=\"twitter-timeline-link u-hidden\" data-pre-embedded=\"true\" dir=\"ltr\" href=\"https://t.co/QpQemcmmJW\">pic.twitter.com/QpQemcmmJW</a></p>,\n",
       " <p class=\"TweetTextSize TweetTextSize--normal js-tweet-text tweet-text\" data-aria-label-part=\"0\" lang=\"en\">Sol 2311 (2019-02-05), high -11C/12F, low -73C/-99F, pressure at 8.12 hPa, daylight 06:47-18:53</p>,\n",
       " <p class=\"TweetTextSize TweetTextSize--normal js-tweet-text tweet-text\" data-aria-label-part=\"0\" lang=\"en\">Sol 2310 (2019-02-04), high -6C/21F, low -75C/-102F, pressure at 8.15 hPa, daylight 06:47-18:53<a class=\"twitter-timeline-link u-hidden\" data-pre-embedded=\"true\" dir=\"ltr\" href=\"https://t.co/oRYhGR1P9C\">pic.twitter.com/oRYhGR1P9C</a></p>,\n",
       " <p class=\"TweetTextSize TweetTextSize--normal js-tweet-text tweet-text\" data-aria-label-part=\"0\" lang=\"en\">Sol 2309 (2019-02-03), high -16C/3F, low -71C/-95F, pressure at 8.14 hPa, daylight 06:47-18:53</p>,\n",
       " <p class=\"TweetTextSize TweetTextSize--normal js-tweet-text tweet-text\" data-aria-label-part=\"0\" lang=\"en\">Happy National Weatherpersons Day to all my meteorologist friends.  Stay classy Gale Crater. <a class=\"twitter-timeline-link\" data-expanded-url=\"https://en.wikipedia.org/wiki/National_Weatherperson%27s_Day\" dir=\"ltr\" href=\"https://t.co/Ok29fj9Qf4\" rel=\"nofollow noopener\" target=\"_blank\" title=\"https://en.wikipedia.org/wiki/National_Weatherperson%27s_Day\"><span class=\"tco-ellipsis\"></span><span class=\"invisible\">https://</span><span class=\"js-display-url\">en.wikipedia.org/wiki/National_</span><span class=\"invisible\">Weatherperson%27s_Day</span><span class=\"tco-ellipsis\"><span class=\"invisible\"> </span>…</span></a><a class=\"twitter-timeline-link u-hidden\" data-pre-embedded=\"true\" dir=\"ltr\" href=\"https://t.co/IifCvlawci\">pic.twitter.com/IifCvlawci</a></p>,\n",
       " <p class=\"TweetTextSize TweetTextSize--normal js-tweet-text tweet-text\" data-aria-label-part=\"0\" lang=\"en\">Sol 2308 (2019-02-02), high -13C/8F, low -71C/-95F, pressure at 8.14 hPa, daylight 06:47-18:54<a class=\"twitter-timeline-link u-hidden\" data-pre-embedded=\"true\" dir=\"ltr\" href=\"https://t.co/slAaFVIn0T\">pic.twitter.com/slAaFVIn0T</a></p>,\n",
       " <p class=\"TweetTextSize TweetTextSize--normal js-tweet-text tweet-text\" data-aria-label-part=\"0\" lang=\"en\">Sol 2307 (2019-02-01), high -13C/8F, low -71C/-95F, pressure at 8.14 hPa, daylight 06:47-18:54</p>,\n",
       " <p class=\"TweetTextSize TweetTextSize--normal js-tweet-text tweet-text\" data-aria-label-part=\"0\" lang=\"en\">Sol 2306 (2019-01-31), high -12C/10F, low -70C/-93F, pressure at 8.13 hPa, daylight 06:47-18:54</p>,\n",
       " <p class=\"TweetTextSize TweetTextSize--normal js-tweet-text tweet-text\" data-aria-label-part=\"0\" lang=\"en\">We’ve got wide receivers.\n",
       " \n",
       " Our Deep Space Network’s dishes span up to 70 meters across and allow us to talk with spacecraft across the solar system: <a class=\"twitter-timeline-link\" data-expanded-url=\"https://go.nasa.gov/2Ej08Yg\" dir=\"ltr\" href=\"https://t.co/T6kKokKHH6\" rel=\"nofollow noopener\" target=\"_blank\" title=\"https://go.nasa.gov/2Ej08Yg\"><span class=\"tco-ellipsis\"></span><span class=\"invisible\">https://</span><span class=\"js-display-url\">go.nasa.gov/2Ej08Yg</span><span class=\"invisible\"></span><span class=\"tco-ellipsis\"><span class=\"invisible\"> </span></span></a> <a class=\"twitter-hashtag pretty-link js-nav\" data-query-source=\"hashtag_click\" dir=\"ltr\" href=\"/hashtag/SuperBowl?src=hash\"><s>#</s><b>SuperBowl</b></a><a class=\"twitter-timeline-link u-hidden\" data-pre-embedded=\"true\" dir=\"ltr\" href=\"https://t.co/qUX5vsYnga\">pic.twitter.com/qUX5vsYnga</a></p>,\n",
       " <p class=\"TweetTextSize TweetTextSize--normal js-tweet-text tweet-text\" data-aria-label-part=\"0\" lang=\"en\">I’ve done it -- carefully placed this protective cover over my seismometer. Shielding it from wind and temperature changes will help it get its best measurements of any <a class=\"twitter-hashtag pretty-link js-nav\" data-query-source=\"hashtag_click\" dir=\"ltr\" href=\"/hashtag/marsquakes?src=hash\"><s>#</s><b>marsquakes</b></a>. Stay cozy in there, little guy!<a class=\"twitter-timeline-link u-hidden\" data-pre-embedded=\"true\" dir=\"ltr\" href=\"https://t.co/6ZcqJPBqKj\">pic.twitter.com/6ZcqJPBqKj</a></p>,\n",
       " <p class=\"TweetTextSize TweetTextSize--normal js-tweet-text tweet-text\" data-aria-label-part=\"0\" lang=\"en\">Sol 2305 (2019-01-30), high -4C/24F, low -73C/-99F, pressure at 8.14 hPa, daylight 06:47-18:54<a class=\"twitter-timeline-link u-hidden\" data-pre-embedded=\"true\" dir=\"ltr\" href=\"https://t.co/OTkUTDyRpu\">pic.twitter.com/OTkUTDyRpu</a></p>,\n",
       " <p class=\"TweetTextSize TweetTextSize--normal js-tweet-text tweet-text\" data-aria-label-part=\"0\" lang=\"en\">Sol 2304 (2019-01-29), high -6C/21F, low -73C/-99F, pressure at 8.14 hPa, daylight 06:47-18:54</p>]"
      ]
     },
     "execution_count": 17,
     "metadata": {},
     "output_type": "execute_result"
    }
   ],
   "source": [
    "# Weather tweets with BeautifulSoup\n",
    "martian_weather_tweets = twitter_soup.find_all('p', class_='TweetTextSize')\n",
    "martian_weather_tweets"
   ]
  },
  {
   "cell_type": "code",
   "execution_count": 18,
   "metadata": {},
   "outputs": [
    {
     "name": "stdout",
     "output_type": "stream",
     "text": [
      "Sol 2317 (2019-02-11), high -16C/3F, low -73C/-99F, pressure at 8.12 hPa, daylight 06:46-18:52pic.twitter.com/D15lfEs6RN\n",
      "Sol 2316 (2019-02-10), high -14C/6F, low -72C/-97F, pressure at 8.14 hPa, daylight 06:47-18:52\n",
      "Sol 2315 (2019-02-09), high -17C/1F, low -71C/-95F, pressure at 8.13 hPa, daylight 06:47-18:52pic.twitter.com/xnGU2i98WB\n",
      "Sol 2314 (2019-02-08), high -16C/3F, low -71C/-95F, pressure at 8.14 hPa, daylight 06:47-18:53\n",
      "Sol 2313 (2019-02-07), high -14C/6F, low -71C/-95F, pressure at 8.14 hPa, daylight 06:47-18:53\n",
      "Sol 2312 (2019-02-06), high -13C/8F, low -72C/-97F, pressure at 8.13 hPa, daylight 06:47-18:53pic.twitter.com/QpQemcmmJW\n",
      "Sol 2311 (2019-02-05), high -11C/12F, low -73C/-99F, pressure at 8.12 hPa, daylight 06:47-18:53\n",
      "Sol 2310 (2019-02-04), high -6C/21F, low -75C/-102F, pressure at 8.15 hPa, daylight 06:47-18:53pic.twitter.com/oRYhGR1P9C\n",
      "Sol 2309 (2019-02-03), high -16C/3F, low -71C/-95F, pressure at 8.14 hPa, daylight 06:47-18:53\n",
      "Sol 2308 (2019-02-02), high -13C/8F, low -71C/-95F, pressure at 8.14 hPa, daylight 06:47-18:54pic.twitter.com/slAaFVIn0T\n",
      "Sol 2307 (2019-02-01), high -13C/8F, low -71C/-95F, pressure at 8.14 hPa, daylight 06:47-18:54\n",
      "Sol 2306 (2019-01-31), high -12C/10F, low -70C/-93F, pressure at 8.13 hPa, daylight 06:47-18:54\n",
      "Sol 2305 (2019-01-30), high -4C/24F, low -73C/-99F, pressure at 8.14 hPa, daylight 06:47-18:54pic.twitter.com/OTkUTDyRpu\n",
      "Sol 2304 (2019-01-29), high -6C/21F, low -73C/-99F, pressure at 8.14 hPa, daylight 06:47-18:54\n"
     ]
    }
   ],
   "source": [
    "# Tweets that begin with 'Sol' \n",
    "weather_text = 'Sol '\n",
    "\n",
    "for tweet in martian_weather_tweets:\n",
    "    if weather_text in tweet.text:\n",
    "        martian_weather = tweet.text\n",
    "        print(tweet.text)"
   ]
  },
  {
   "cell_type": "code",
   "execution_count": 19,
   "metadata": {},
   "outputs": [],
   "source": [
    "# Url to Mars facts website\n",
    "martian_facts_url = 'https://space-facts.com/mars/'"
   ]
  },
  {
   "cell_type": "code",
   "execution_count": 20,
   "metadata": {},
   "outputs": [
    {
     "data": {
      "text/plain": [
       "[                      0                              1\n",
       " 0  Equatorial Diameter:                       6,792 km\n",
       " 1       Polar Diameter:                       6,752 km\n",
       " 2                 Mass:  6.42 x 10^23 kg (10.7% Earth)\n",
       " 3                Moons:            2 (Phobos & Deimos)\n",
       " 4       Orbit Distance:       227,943,824 km (1.52 AU)\n",
       " 5         Orbit Period:           687 days (1.9 years)\n",
       " 6  Surface Temperature:                  -153 to 20 °C\n",
       " 7         First Record:              2nd millennium BC\n",
       " 8          Recorded By:           Egyptian astronomers]"
      ]
     },
     "execution_count": 20,
     "metadata": {},
     "output_type": "execute_result"
    }
   ],
   "source": [
    "# Table from url\n",
    "martian_facts_table = pd.read_html(martian_facts_url)\n",
    "martian_facts_table"
   ]
  },
  {
   "cell_type": "code",
   "execution_count": 21,
   "metadata": {},
   "outputs": [
    {
     "data": {
      "text/html": [
       "<div>\n",
       "<style scoped>\n",
       "    .dataframe tbody tr th:only-of-type {\n",
       "        vertical-align: middle;\n",
       "    }\n",
       "\n",
       "    .dataframe tbody tr th {\n",
       "        vertical-align: top;\n",
       "    }\n",
       "\n",
       "    .dataframe thead th {\n",
       "        text-align: right;\n",
       "    }\n",
       "</style>\n",
       "<table border=\"1\" class=\"dataframe\">\n",
       "  <thead>\n",
       "    <tr style=\"text-align: right;\">\n",
       "      <th></th>\n",
       "      <th>0</th>\n",
       "      <th>1</th>\n",
       "      <th>2</th>\n",
       "      <th>3</th>\n",
       "      <th>4</th>\n",
       "      <th>5</th>\n",
       "      <th>6</th>\n",
       "      <th>7</th>\n",
       "      <th>8</th>\n",
       "    </tr>\n",
       "  </thead>\n",
       "  <tbody>\n",
       "    <tr>\n",
       "      <th>0</th>\n",
       "      <td>Equatorial Diameter:</td>\n",
       "      <td>Polar Diameter:</td>\n",
       "      <td>Mass:</td>\n",
       "      <td>Moons:</td>\n",
       "      <td>Orbit Distance:</td>\n",
       "      <td>Orbit Period:</td>\n",
       "      <td>Surface Temperature:</td>\n",
       "      <td>First Record:</td>\n",
       "      <td>Recorded By:</td>\n",
       "    </tr>\n",
       "    <tr>\n",
       "      <th>1</th>\n",
       "      <td>6,792 km</td>\n",
       "      <td>6,752 km</td>\n",
       "      <td>6.42 x 10^23 kg (10.7% Earth)</td>\n",
       "      <td>2 (Phobos &amp; Deimos)</td>\n",
       "      <td>227,943,824 km (1.52 AU)</td>\n",
       "      <td>687 days (1.9 years)</td>\n",
       "      <td>-153 to 20 °C</td>\n",
       "      <td>2nd millennium BC</td>\n",
       "      <td>Egyptian astronomers</td>\n",
       "    </tr>\n",
       "  </tbody>\n",
       "</table>\n",
       "</div>"
      ],
      "text/plain": [
       "                      0                1                              2  \\\n",
       "0  Equatorial Diameter:  Polar Diameter:                          Mass:   \n",
       "1              6,792 km         6,752 km  6.42 x 10^23 kg (10.7% Earth)   \n",
       "\n",
       "                     3                         4                     5  \\\n",
       "0               Moons:           Orbit Distance:         Orbit Period:   \n",
       "1  2 (Phobos & Deimos)  227,943,824 km (1.52 AU)  687 days (1.9 years)   \n",
       "\n",
       "                      6                  7                     8  \n",
       "0  Surface Temperature:      First Record:          Recorded By:  \n",
       "1         -153 to 20 °C  2nd millennium BC  Egyptian astronomers  "
      ]
     },
     "execution_count": 21,
     "metadata": {},
     "output_type": "execute_result"
    }
   ],
   "source": [
    "# Select table\n",
    "martian_facts = martian_facts_table[0]\n",
    "\n",
    "# Switch columns and rows\n",
    "martian_facts_df = martian_facts.transpose()\n",
    "martian_facts_df"
   ]
  },
  {
   "cell_type": "code",
   "execution_count": 22,
   "metadata": {},
   "outputs": [
    {
     "data": {
      "text/html": [
       "<div>\n",
       "<style scoped>\n",
       "    .dataframe tbody tr th:only-of-type {\n",
       "        vertical-align: middle;\n",
       "    }\n",
       "\n",
       "    .dataframe tbody tr th {\n",
       "        vertical-align: top;\n",
       "    }\n",
       "\n",
       "    .dataframe thead th {\n",
       "        text-align: right;\n",
       "    }\n",
       "</style>\n",
       "<table border=\"1\" class=\"dataframe\">\n",
       "  <thead>\n",
       "    <tr style=\"text-align: right;\">\n",
       "      <th></th>\n",
       "      <th>Equatorial diameter</th>\n",
       "      <th>Polar diameter</th>\n",
       "      <th>Mass</th>\n",
       "      <th>Moons</th>\n",
       "      <th>Orbit distance</th>\n",
       "      <th>Orbit period</th>\n",
       "      <th>Surface temperature</th>\n",
       "      <th>First record</th>\n",
       "      <th>Recorded by</th>\n",
       "    </tr>\n",
       "  </thead>\n",
       "  <tbody>\n",
       "    <tr>\n",
       "      <th>0</th>\n",
       "      <td>Equatorial Diameter:</td>\n",
       "      <td>Polar Diameter:</td>\n",
       "      <td>Mass:</td>\n",
       "      <td>Moons:</td>\n",
       "      <td>Orbit Distance:</td>\n",
       "      <td>Orbit Period:</td>\n",
       "      <td>Surface Temperature:</td>\n",
       "      <td>First Record:</td>\n",
       "      <td>Recorded By:</td>\n",
       "    </tr>\n",
       "    <tr>\n",
       "      <th>1</th>\n",
       "      <td>6,792 km</td>\n",
       "      <td>6,752 km</td>\n",
       "      <td>6.42 x 10^23 kg (10.7% Earth)</td>\n",
       "      <td>2 (Phobos &amp; Deimos)</td>\n",
       "      <td>227,943,824 km (1.52 AU)</td>\n",
       "      <td>687 days (1.9 years)</td>\n",
       "      <td>-153 to 20 °C</td>\n",
       "      <td>2nd millennium BC</td>\n",
       "      <td>Egyptian astronomers</td>\n",
       "    </tr>\n",
       "  </tbody>\n",
       "</table>\n",
       "</div>"
      ],
      "text/plain": [
       "    Equatorial diameter   Polar diameter                           Mass  \\\n",
       "0  Equatorial Diameter:  Polar Diameter:                          Mass:   \n",
       "1              6,792 km         6,752 km  6.42 x 10^23 kg (10.7% Earth)   \n",
       "\n",
       "                 Moons            Orbit distance          Orbit period  \\\n",
       "0               Moons:           Orbit Distance:         Orbit Period:   \n",
       "1  2 (Phobos & Deimos)  227,943,824 km (1.52 AU)  687 days (1.9 years)   \n",
       "\n",
       "    Surface temperature       First record           Recorded by  \n",
       "0  Surface Temperature:      First Record:          Recorded By:  \n",
       "1         -153 to 20 °C  2nd millennium BC  Egyptian astronomers  "
      ]
     },
     "execution_count": 22,
     "metadata": {},
     "output_type": "execute_result"
    }
   ],
   "source": [
    "# Rename columns\n",
    "martian_facts_df.columns = [\n",
    "    'Equatorial diameter',\n",
    "    'Polar diameter',\n",
    "    'Mass',\n",
    "    'Moons',\n",
    "    'Orbit distance',\n",
    "    'Orbit period',\n",
    "    'Surface temperature',\n",
    "    'First record',\n",
    "    'Recorded by'\n",
    "]\n",
    "\n",
    "martian_facts_df"
   ]
  },
  {
   "cell_type": "code",
   "execution_count": 23,
   "metadata": {},
   "outputs": [
    {
     "data": {
      "text/html": [
       "<div>\n",
       "<style scoped>\n",
       "    .dataframe tbody tr th:only-of-type {\n",
       "        vertical-align: middle;\n",
       "    }\n",
       "\n",
       "    .dataframe tbody tr th {\n",
       "        vertical-align: top;\n",
       "    }\n",
       "\n",
       "    .dataframe thead th {\n",
       "        text-align: right;\n",
       "    }\n",
       "</style>\n",
       "<table border=\"1\" class=\"dataframe\">\n",
       "  <thead>\n",
       "    <tr style=\"text-align: right;\">\n",
       "      <th></th>\n",
       "      <th>Equatorial diameter</th>\n",
       "      <th>Polar diameter</th>\n",
       "      <th>Mass</th>\n",
       "      <th>Moons</th>\n",
       "      <th>Orbit distance</th>\n",
       "      <th>Orbit period</th>\n",
       "      <th>Surface temperature</th>\n",
       "      <th>First record</th>\n",
       "      <th>Recorded by</th>\n",
       "    </tr>\n",
       "  </thead>\n",
       "  <tbody>\n",
       "    <tr>\n",
       "      <th>1</th>\n",
       "      <td>6,792 km</td>\n",
       "      <td>6,752 km</td>\n",
       "      <td>6.42 x 10^23 kg (10.7% Earth)</td>\n",
       "      <td>2 (Phobos &amp; Deimos)</td>\n",
       "      <td>227,943,824 km (1.52 AU)</td>\n",
       "      <td>687 days (1.9 years)</td>\n",
       "      <td>-153 to 20 °C</td>\n",
       "      <td>2nd millennium BC</td>\n",
       "      <td>Egyptian astronomers</td>\n",
       "    </tr>\n",
       "  </tbody>\n",
       "</table>\n",
       "</div>"
      ],
      "text/plain": [
       "  Equatorial diameter Polar diameter                           Mass  \\\n",
       "1            6,792 km       6,752 km  6.42 x 10^23 kg (10.7% Earth)   \n",
       "\n",
       "                 Moons            Orbit distance          Orbit period  \\\n",
       "1  2 (Phobos & Deimos)  227,943,824 km (1.52 AU)  687 days (1.9 years)   \n",
       "\n",
       "  Surface temperature       First record           Recorded by  \n",
       "1       -153 to 20 °C  2nd millennium BC  Egyptian astronomers  "
      ]
     },
     "execution_count": 23,
     "metadata": {},
     "output_type": "execute_result"
    }
   ],
   "source": [
    "# Remove first row\n",
    "clean_martian_facts_df = martian_facts_df.iloc[1:]\n",
    "clean_martian_facts_df"
   ]
  },
  {
   "cell_type": "code",
   "execution_count": 24,
   "metadata": {},
   "outputs": [
    {
     "name": "stdout",
     "output_type": "stream",
     "text": [
      "<table border=\"1\" class=\"dataframe\">\n",
      "  <thead>\n",
      "    <tr style=\"text-align: right;\">\n",
      "      <th></th>\n",
      "      <th>Equatorial diameter</th>\n",
      "      <th>Polar diameter</th>\n",
      "      <th>Mass</th>\n",
      "      <th>Moons</th>\n",
      "      <th>Orbit distance</th>\n",
      "      <th>Orbit period</th>\n",
      "      <th>Surface temperature</th>\n",
      "      <th>First record</th>\n",
      "      <th>Recorded by</th>\n",
      "    </tr>\n",
      "  </thead>\n",
      "  <tbody>\n",
      "    <tr>\n",
      "      <th>1</th>\n",
      "      <td>6,792 km</td>\n",
      "      <td>6,752 km</td>\n",
      "      <td>6.42 x 10^23 kg (10.7% Earth)</td>\n",
      "      <td>2 (Phobos &amp; Deimos)</td>\n",
      "      <td>227,943,824 km (1.52 AU)</td>\n",
      "      <td>687 days (1.9 years)</td>\n",
      "      <td>-153 to 20 °C</td>\n",
      "      <td>2nd millennium BC</td>\n",
      "      <td>Egyptian astronomers</td>\n",
      "    </tr>\n",
      "  </tbody>\n",
      "</table>\n"
     ]
    }
   ],
   "source": [
    "# Print dataframe in html format\n",
    "martian_facts_html_table = clean_martian_facts_df.to_html()\n",
    "print(martian_facts_html_table)"
   ]
  },
  {
   "cell_type": "code",
   "execution_count": 25,
   "metadata": {},
   "outputs": [],
   "source": [
    "# Use splinter to get image and title links of each hemisphere\n",
    "usgs_browser = Browser('chrome', headless=False)\n",
    "usgs_url = 'https://astrogeology.usgs.gov/search/results?q=hemisphere+enhanced&k1=target&v1=Mars'\n",
    "usgs_browser.visit(usgs_url)"
   ]
  },
  {
   "cell_type": "code",
   "execution_count": 26,
   "metadata": {},
   "outputs": [],
   "source": [
    "# Parse with BeautifulSoup\n",
    "martian_hemispheres_html = usgs_browser.html\n",
    "martian_hemispheres_soup = BeautifulSoup(martian_hemispheres_html, 'html.parser')"
   ]
  },
  {
   "cell_type": "code",
   "execution_count": 27,
   "metadata": {},
   "outputs": [],
   "source": [
    "# Print body of html\n",
    "# print(mars_hemispheres_soup.body.prettify())"
   ]
  },
  {
   "cell_type": "code",
   "execution_count": 28,
   "metadata": {},
   "outputs": [
    {
     "data": {
      "text/plain": [
       "[<div class=\"description\"><a class=\"itemLink product-item\" href=\"/search/map/Mars/Viking/cerberus_enhanced\"><h3>Cerberus Hemisphere Enhanced</h3></a><span class=\"subtitle\" style=\"float:left\">image/tiff 21 MB</span><span class=\"pubDate\" style=\"float:right\"></span><br/><p>Mosaic of the Cerberus hemisphere of Mars projected into point perspective, a view similar to that which one would see from a spacecraft. This mosaic is composed of 104 Viking Orbiter images acquired…</p></div>,\n",
       " <div class=\"description\"><a class=\"itemLink product-item\" href=\"/search/map/Mars/Viking/schiaparelli_enhanced\"><h3>Schiaparelli Hemisphere Enhanced</h3></a><span class=\"subtitle\" style=\"float:left\">image/tiff 35 MB</span><span class=\"pubDate\" style=\"float:right\"></span><br/><p>Mosaic of the Schiaparelli hemisphere of Mars projected into point perspective, a view similar to that which one would see from a spacecraft. The images were acquired in 1980 during early northern…</p></div>,\n",
       " <div class=\"description\"><a class=\"itemLink product-item\" href=\"/search/map/Mars/Viking/syrtis_major_enhanced\"><h3>Syrtis Major Hemisphere Enhanced</h3></a><span class=\"subtitle\" style=\"float:left\">image/tiff 25 MB</span><span class=\"pubDate\" style=\"float:right\"></span><br/><p>Mosaic of the Syrtis Major hemisphere of Mars projected into point perspective, a view similar to that which one would see from a spacecraft. This mosaic is composed of about 100 red and violet…</p></div>,\n",
       " <div class=\"description\"><a class=\"itemLink product-item\" href=\"/search/map/Mars/Viking/valles_marineris_enhanced\"><h3>Valles Marineris Hemisphere Enhanced</h3></a><span class=\"subtitle\" style=\"float:left\">image/tiff 27 MB</span><span class=\"pubDate\" style=\"float:right\"></span><br/><p>Mosaic of the Valles Marineris hemisphere of Mars projected into point perspective, a view similar to that which one would see from a spacecraft. The distance is 2500 kilometers from the surface of…</p></div>]"
      ]
     },
     "execution_count": 28,
     "metadata": {},
     "output_type": "execute_result"
    }
   ],
   "source": [
    "# Hemisphere image link and title\n",
    "martian_hemispheres = martian_hemispheres_soup.find_all('div', class_='description')\n",
    "martian_hemispheres"
   ]
  },
  {
   "cell_type": "code",
   "execution_count": 29,
   "metadata": {},
   "outputs": [
    {
     "name": "stdout",
     "output_type": "stream",
     "text": [
      "https://astrogeology.usgs.gov/search/map/Mars/Viking/cerberus_enhanced\n",
      "https://astrogeology.usgs.gov/search/map/Mars/Viking/schiaparelli_enhanced\n",
      "https://astrogeology.usgs.gov/search/map/Mars/Viking/syrtis_major_enhanced\n",
      "https://astrogeology.usgs.gov/search/map/Mars/Viking/valles_marineris_enhanced\n",
      "[{'title': 'Cerberus Hemisphere', 'img_url': 'http://astropedia.astrogeology.usgs.gov/download/Mars/Viking/cerberus_enhanced.tif'}, {'title': 'Schiaparelli Hemisphere', 'img_url': 'http://astropedia.astrogeology.usgs.gov/download/Mars/Viking/schiaparelli_enhanced.tif'}, {'title': 'Syrtis Major Hemisphere', 'img_url': 'http://astropedia.astrogeology.usgs.gov/download/Mars/Viking/syrtis_major_enhanced.tif'}, {'title': 'Valles Marineris Hemisphere', 'img_url': 'http://astropedia.astrogeology.usgs.gov/download/Mars/Viking/valles_marineris_enhanced.tif'}]\n"
     ]
    }
   ],
   "source": [
    "# List of dictionaries \n",
    "hemisphere_image_urls = []\n",
    "\n",
    "# Loop \n",
    "for image in martian_hemispheres:\n",
    "    hemisphere_url = image.find('a', class_='itemLink')\n",
    "    hemisphere = hemisphere_url.get('href')\n",
    "    hemisphere_link = 'https://astrogeology.usgs.gov' + hemisphere\n",
    "    print(hemisphere_link)\n",
    "\n",
    "    # Visit each link that you just found (hemisphere_link)\n",
    "    usgs_browser.visit(hemisphere_link)\n",
    "    \n",
    "    # Create dictionary \n",
    "    hemisphere_image_dict = {}\n",
    "    \n",
    "    # Parse html again\n",
    "    martian_hemispheres_html = usgs_browser.html\n",
    "    martian_hemispheres_soup = BeautifulSoup(martian_hemispheres_html, 'html.parser')\n",
    "    \n",
    "    # Get image link\n",
    "    hemisphere_link = martian_hemispheres_soup.find('a', text='Original').get('href')\n",
    "    \n",
    "    # Get title text\n",
    "    hemisphere_title = martian_hemispheres_soup.find('h2', class_='title').text.replace(' Enhanced', '')\n",
    "    \n",
    "    # Append title and image urls of hemisphere to dictionary\n",
    "    hemisphere_image_dict['title'] = hemisphere_title\n",
    "    hemisphere_image_dict['img_url'] = hemisphere_link\n",
    "    \n",
    "    # Append dictionaries to list\n",
    "    hemisphere_image_urls.append(hemisphere_image_dict)\n",
    "\n",
    "print(hemisphere_image_urls)"
   ]
  },
  {
   "cell_type": "code",
   "execution_count": 30,
   "metadata": {},
   "outputs": [
    {
     "name": "stderr",
     "output_type": "stream",
     "text": [
      "[NbConvertApp] Converting notebook mission_to_mars.ipynb to script\n",
      "[NbConvertApp] Writing 6345 bytes to scrape_mars.py\n"
     ]
    }
   ],
   "source": [
    "# Convert this jupyter notebook file to a python script called 'scrape_mars.py'\n",
    "! jupyter nbconvert --to script --template basic mission_to_mars.ipynb --output scrape_mars"
   ]
  },
  {
   "cell_type": "code",
   "execution_count": 31,
   "metadata": {},
   "outputs": [],
   "source": [
    "# Create root/index route to query mongoDB and pass mars data to HTML template to display data\n",
    "# @app.route('/')\n",
    "# def index():\n",
    "    # marsdata = db.marsdata.find_one()\n",
    "    # return render_template('index.html', marsdata=marsdata)"
   ]
  },
  {
   "cell_type": "code",
   "execution_count": 32,
   "metadata": {},
   "outputs": [],
   "source": [
    "# Create route called /scrape\n",
    "# @app.route('/scrape')\n",
    "# def scrape():\n",
    "    # data = scrape_mars()\n",
    "    # marsdata = db.marsdata.insert_many(data)\n",
    "    # db.marsdata.update({}, data, upsert=True)\n",
    "    # return \"Scraping successful!\""
   ]
  },
  {
   "cell_type": "code",
   "execution_count": 33,
   "metadata": {},
   "outputs": [],
   "source": [
    "# if __name__ == '__main__':\n",
    "    # app.run(debug=True)\n",
    "    # scrape_mars()"
   ]
  },
  {
   "cell_type": "code",
   "execution_count": null,
   "metadata": {},
   "outputs": [],
   "source": []
  }
 ],
 "metadata": {
  "kernelspec": {
   "display_name": "Python 3",
   "language": "python",
   "name": "python3"
  },
  "language_info": {
   "codemirror_mode": {
    "name": "ipython",
    "version": 3
   },
   "file_extension": ".py",
   "mimetype": "text/x-python",
   "name": "python",
   "nbconvert_exporter": "python",
   "pygments_lexer": "ipython3",
   "version": "3.6.5"
  }
 },
 "nbformat": 4,
 "nbformat_minor": 2
}
